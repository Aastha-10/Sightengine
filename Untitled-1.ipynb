{
 "cells": [
  {
   "cell_type": "code",
   "execution_count": null,
   "id": "783b09c6",
   "metadata": {},
   "outputs": [],
   "source": [
    "pip install requests"
   ]
  },
  {
   "cell_type": "code",
   "execution_count": null,
   "id": "85577e46",
   "metadata": {},
   "outputs": [],
   "source": [
    "pip install JSON"
   ]
  },
  {
   "cell_type": "code",
   "execution_count": null,
   "id": "81f07776",
   "metadata": {},
   "outputs": [],
   "source": [
    "import requests\n",
    "import json\n",
    "\n",
    "params = {\n",
    "  'models': 'genai',\n",
    "  'api_user': '1838034711',\n",
    "  'api_secret': 'TkPXwbZ6Bm7CDHc5Re8KEsRHgFxFSjjU'\n",
    "}\n",
    "files = {'media': open(r\"C:\\Users\\aastha\\Pictures\\imageset2\\afgoig.webp\", 'rb')}\n",
    "r = requests.post('https://api.sightengine.com/1.0/check.json', files=files, data=params)\n",
    "\n",
    "output = json.loads(r.text)"
   ]
  },
  {
   "cell_type": "code",
   "execution_count": 8,
   "id": "b843241d",
   "metadata": {},
   "outputs": [
    {
     "name": "stdout",
     "output_type": "stream",
     "text": [
      "{\n",
      "  \"status\": \"success\",\n",
      "  \"request\": {\n",
      "    \"id\": \"req_iPt257bQ451r5kD4SOqIc\",\n",
      "    \"timestamp\": 1752493734.337227,\n",
      "    \"operations\": 5\n",
      "  },\n",
      "  \"type\": {\n",
      "    \"ai_generated\": 0.99\n",
      "  },\n",
      "  \"media\": {\n",
      "    \"id\": \"med_iPt2R5SX7gh9kYx5EBMxT\",\n",
      "    \"uri\": \"afgoig.webp\"\n",
      "  }\n",
      "}\n"
     ]
    }
   ],
   "source": [
    "print(json.dumps(output, indent=2))"
   ]
  },
  {
   "cell_type": "code",
   "execution_count": 10,
   "id": "9edfc851",
   "metadata": {},
   "outputs": [
    {
     "name": "stdout",
     "output_type": "stream",
     "text": [
      "{\n",
      "  \"status\": \"success\",\n",
      "  \"request\": {\n",
      "    \"id\": \"req_iPtcO5utBNvwL8rJCioEQ\",\n",
      "    \"timestamp\": 1752494301.801086,\n",
      "    \"operations\": 5\n",
      "  },\n",
      "  \"type\": {\n",
      "    \"ai_generated\": 0.01\n",
      "  },\n",
      "  \"media\": {\n",
      "    \"id\": \"med_iPtcglqmjCbA0WOYQGpkd\",\n",
      "    \"uri\": \"woman.jpg\"\n",
      "  }\n",
      "}\n"
     ]
    }
   ],
   "source": [
    "files = {'media': open(r\"C:\\Users\\aastha\\Pictures\\imageds1\\woman.jpg\", 'rb')}\n",
    "r = requests.post('https://api.sightengine.com/1.0/check.json', files=files, data=params)\n",
    "\n",
    "output = json.loads(r.text)\n",
    "\n",
    "print(json.dumps(output, indent=2))"
   ]
  },
  {
   "cell_type": "code",
   "execution_count": 12,
   "id": "5d6024ec",
   "metadata": {},
   "outputs": [
    {
     "name": "stdout",
     "output_type": "stream",
     "text": [
      "{\n",
      "  \"status\": \"success\",\n",
      "  \"request\": {\n",
      "    \"id\": \"req_iPti7a5YIpdqqwgaHn891\",\n",
      "    \"timestamp\": 1752494646.896054,\n",
      "    \"operations\": 5\n",
      "  },\n",
      "  \"type\": {\n",
      "    \"ai_generated\": 0.99\n",
      "  },\n",
      "  \"media\": {\n",
      "    \"id\": \"med_iPtiWeNEP0QsfqORX00aj\",\n",
      "    \"uri\": \"city.jpg\"\n",
      "  }\n",
      "}\n"
     ]
    }
   ],
   "source": [
    "files = {'media': open(r\"C:\\Users\\aastha\\.vscode\\extensions\\sourcery.sourcery-1.37.0-win32-x64\\New folder\\imageset1\\city.jpg\", 'rb')}\n",
    "r = requests.post('https://api.sightengine.com/1.0/check.json', files=files, data=params)\n",
    "\n",
    "output = json.loads(r.text)\n",
    "\n",
    "print(json.dumps(output, indent=2))"
   ]
  },
  {
   "cell_type": "code",
   "execution_count": 13,
   "id": "0461a102",
   "metadata": {},
   "outputs": [
    {
     "name": "stdout",
     "output_type": "stream",
     "text": [
      "{\n",
      "  \"status\": \"success\",\n",
      "  \"request\": {\n",
      "    \"id\": \"req_iPtivmsUQX3RoIuAb2PPx\",\n",
      "    \"timestamp\": 1752494694.257882,\n",
      "    \"operations\": 5\n",
      "  },\n",
      "  \"type\": {\n",
      "    \"ai_generated\": 0.01\n",
      "  },\n",
      "  \"media\": {\n",
      "    \"id\": \"med_iPtioYRFATVH8VY9lf1RS\",\n",
      "    \"uri\": \"india.jpg\"\n",
      "  }\n",
      "}\n"
     ]
    }
   ],
   "source": [
    "files = {'media': open(r\"C:\\Users\\aastha\\.vscode\\extensions\\sourcery.sourcery-1.37.0-win32-x64\\New folder\\imageset1\\india.jpg\", 'rb')}\n",
    "r = requests.post('https://api.sightengine.com/1.0/check.json', files=files, data=params)\n",
    "\n",
    "output = json.loads(r.text)\n",
    "\n",
    "print(json.dumps(output, indent=2))"
   ]
  },
  {
   "cell_type": "code",
   "execution_count": 14,
   "id": "e00ca3eb",
   "metadata": {},
   "outputs": [
    {
     "name": "stdout",
     "output_type": "stream",
     "text": [
      "{\n",
      "  \"status\": \"success\",\n",
      "  \"request\": {\n",
      "    \"id\": \"req_iPtj9DVMsHvYQ6jdjgPfD\",\n",
      "    \"timestamp\": 1752494759.647292,\n",
      "    \"operations\": 5\n",
      "  },\n",
      "  \"type\": {\n",
      "    \"ai_generated\": 0.01\n",
      "  },\n",
      "  \"media\": {\n",
      "    \"id\": \"med_iPtj4KOoqcpr1EmtwF3a4\",\n",
      "    \"uri\": \"istockphoto-1403500817-612x612.jpg\"\n",
      "  }\n",
      "}\n"
     ]
    }
   ],
   "source": [
    "files = {'media': open(r\"C:\\Users\\aastha\\.vscode\\extensions\\sourcery.sourcery-1.37.0-win32-x64\\New folder\\imageset1\\istockphoto-1403500817-612x612.jpg\", 'rb')}\n",
    "r = requests.post('https://api.sightengine.com/1.0/check.json', files=files, data=params)\n",
    "\n",
    "output = json.loads(r.text)\n",
    "\n",
    "print(json.dumps(output, indent=2))"
   ]
  },
  {
   "cell_type": "code",
   "execution_count": 15,
   "id": "1fd847cc",
   "metadata": {},
   "outputs": [
    {
     "name": "stdout",
     "output_type": "stream",
     "text": [
      "{\n",
      "  \"status\": \"success\",\n",
      "  \"request\": {\n",
      "    \"id\": \"req_iPtka8d764wC7vUUcVp6k\",\n",
      "    \"timestamp\": 1752494810.420589,\n",
      "    \"operations\": 5\n",
      "  },\n",
      "  \"type\": {\n",
      "    \"ai_generated\": 0.99\n",
      "  },\n",
      "  \"media\": {\n",
      "    \"id\": \"med_iPtk4h0jJ6oX6LFF72ZO4\",\n",
      "    \"uri\": \"spdavhf.webp\"\n",
      "  }\n",
      "}\n"
     ]
    }
   ],
   "source": [
    "files = {'media': open(r\"imageset2/spdavhf.webp\", 'rb')}\n",
    "r = requests.post('https://api.sightengine.com/1.0/check.json', files=files, data=params)\n",
    "\n",
    "output = json.loads(r.text)\n",
    "\n",
    "print(json.dumps(output, indent=2))"
   ]
  },
  {
   "cell_type": "code",
   "execution_count": 16,
   "id": "8242ab55",
   "metadata": {},
   "outputs": [
    {
     "name": "stdout",
     "output_type": "stream",
     "text": [
      "{\n",
      "  \"status\": \"success\",\n",
      "  \"request\": {\n",
      "    \"id\": \"req_iPtmLWugfh3knMNvNJ9dK\",\n",
      "    \"timestamp\": 1752494887.057164,\n",
      "    \"operations\": 5\n",
      "  },\n",
      "  \"type\": {\n",
      "    \"ai_generated\": 0.01\n",
      "  },\n",
      "  \"media\": {\n",
      "    \"id\": \"med_iPtm6DcoWqEZhP9gOGMLb\",\n",
      "    \"uri\": \"img_lights.jpg\"\n",
      "  }\n",
      "}\n"
     ]
    }
   ],
   "source": [
    "\n",
    "files = {'media': open(r\"imageset1\\img_lights.jpg\", 'rb')}\n",
    "r = requests.post('https://api.sightengine.com/1.0/check.json', files=files, data=params)\n",
    "\n",
    "output = json.loads(r.text)\n",
    "\n",
    "print(json.dumps(output, indent=2))"
   ]
  },
  {
   "cell_type": "code",
   "execution_count": 21,
   "id": "4f65ecc5",
   "metadata": {},
   "outputs": [
    {
     "name": "stdout",
     "output_type": "stream",
     "text": [
      "{'media': <_io.BufferedReader name='C:\\\\Users\\\\aastha\\\\.vscode\\\\extensions\\\\sourcery.sourcery-1.37.0-win32-x64\\\\New folder\\\\imageset2\\\\fwivg.webp'>}\n",
      "{\n",
      "  \"status\": \"success\",\n",
      "  \"request\": {\n",
      "    \"id\": \"req_iPts0AbxDCk0au9yCWejy\",\n",
      "    \"timestamp\": 1752495282.722678,\n",
      "    \"operations\": 5\n",
      "  },\n",
      "  \"type\": {\n",
      "    \"ai_generated\": 0.99\n",
      "  },\n",
      "  \"media\": {\n",
      "    \"id\": \"med_iPtsM0WJs6nty48M8oliW\",\n",
      "    \"uri\": \"fwivg.webp\"\n",
      "  }\n",
      "}\n"
     ]
    }
   ],
   "source": [
    "\n",
    "\n",
    "files = {'media': open(r\"C:\\Users\\aastha\\.vscode\\extensions\\sourcery.sourcery-1.37.0-win32-x64\\New folder\\imageset2\\fwivg.webp\", 'rb')}\n",
    "r = requests.post('https://api.sightengine.com/1.0/check.json', files=files, data=params)\n",
    "\n",
    "output = json.loads(r.text)\n",
    "print(files)\n",
    "print(json.dumps(output, indent=2))"
   ]
  },
  {
   "cell_type": "code",
   "execution_count": null,
   "id": "2190e4b1",
   "metadata": {},
   "outputs": [],
   "source": []
  },
  {
   "cell_type": "code",
   "execution_count": null,
   "id": "aa1b427c",
   "metadata": {},
   "outputs": [],
   "source": []
  },
  {
   "cell_type": "code",
   "execution_count": null,
   "id": "159a861b",
   "metadata": {},
   "outputs": [],
   "source": []
  },
  {
   "cell_type": "code",
   "execution_count": null,
   "id": "326eddfe",
   "metadata": {},
   "outputs": [],
   "source": []
  }
 ],
 "metadata": {
  "kernelspec": {
   "display_name": ".venv",
   "language": "python",
   "name": "python3"
  },
  "language_info": {
   "codemirror_mode": {
    "name": "ipython",
    "version": 3
   },
   "file_extension": ".py",
   "mimetype": "text/x-python",
   "name": "python",
   "nbconvert_exporter": "python",
   "pygments_lexer": "ipython3",
   "version": "3.12.6"
  }
 },
 "nbformat": 4,
 "nbformat_minor": 5
}
